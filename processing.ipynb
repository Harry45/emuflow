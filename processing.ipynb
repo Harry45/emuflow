{
 "cells": [
  {
   "cell_type": "code",
   "execution_count": 1,
   "id": "cab16de1-2b2e-4392-8327-b639dc4c9e3e",
   "metadata": {},
   "outputs": [],
   "source": [
    "import numpy as np \n",
    "import pandas as pd\n",
    "import matplotlib.pylab as plt "
   ]
  },
  {
   "cell_type": "markdown",
   "id": "052008b8-e027-469c-8804-26de396c70a9",
   "metadata": {},
   "source": [
    "## Convention\n",
    "\n",
    "We are using the following parameters (in the same order) throughout. \n",
    "\n",
    "$$\n",
    "\\left[\\sigma_{8},\\,\\Omega_{c},\\,\\Omega_{b},\\,h,\\,n_{s}\\right]\n",
    "$$"
   ]
  },
  {
   "cell_type": "code",
   "execution_count": 14,
   "id": "5232e9e2-c77d-448c-b750-2b087ed85203",
   "metadata": {},
   "outputs": [],
   "source": [
    "COLS = ['sigma8', 'Omega_cdm', 'Omega_b', 'h', 'n_s'] "
   ]
  },
  {
   "cell_type": "markdown",
   "id": "884eca32-798d-4f76-9f4c-63a4ac34b359",
   "metadata": {},
   "source": [
    "## Oxford DES Year 1"
   ]
  },
  {
   "cell_type": "code",
   "execution_count": 37,
   "id": "306d1782-4a78-4277-a111-caa9701cf8c3",
   "metadata": {},
   "outputs": [],
   "source": [
    "def process_des_y1(save=False, burnin = None):\n",
    "    fname = 'oxford_des_y1'\n",
    "    samples = np.loadtxt(f'originalsamples/{fname}.txt')[:,[2, 3, 4, 5, 6]]\n",
    "    if burnin is not None:\n",
    "        nsamples = samples.shape[0]\n",
    "        factor = int(nsamples * burnin)\n",
    "        samples = samples[factor:]\n",
    "    df = pd.DataFrame(samples, columns=COLS)\n",
    "    print(f'Total number of samples for DES Y1 is: {df.shape[0]}')\n",
    "    if save:\n",
    "        df.to_csv(f'samples/{fname}.csv')\n",
    "    return df"
   ]
  },
  {
   "cell_type": "code",
   "execution_count": 45,
   "id": "2bd3b224-f8b0-488a-a991-1021fcdc6723",
   "metadata": {},
   "outputs": [
    {
     "name": "stdout",
     "output_type": "stream",
     "text": [
      "Total number of samples for DES Y1 is: 211000\n"
     ]
    }
   ],
   "source": [
    "des_y1 = process_des_y1(save=True, burnin=0)"
   ]
  },
  {
   "cell_type": "code",
   "execution_count": 46,
   "id": "fa3c8319-42ab-4ca0-a858-6b63c1eadbfb",
   "metadata": {},
   "outputs": [
    {
     "data": {
      "text/html": [
       "<div>\n",
       "<style scoped>\n",
       "    .dataframe tbody tr th:only-of-type {\n",
       "        vertical-align: middle;\n",
       "    }\n",
       "\n",
       "    .dataframe tbody tr th {\n",
       "        vertical-align: top;\n",
       "    }\n",
       "\n",
       "    .dataframe thead th {\n",
       "        text-align: right;\n",
       "    }\n",
       "</style>\n",
       "<table border=\"1\" class=\"dataframe\">\n",
       "  <thead>\n",
       "    <tr style=\"text-align: right;\">\n",
       "      <th></th>\n",
       "      <th>sigma8</th>\n",
       "      <th>Omega_cdm</th>\n",
       "      <th>Omega_b</th>\n",
       "      <th>h</th>\n",
       "      <th>n_s</th>\n",
       "    </tr>\n",
       "  </thead>\n",
       "  <tbody>\n",
       "    <tr>\n",
       "      <th>0</th>\n",
       "      <td>0.832158</td>\n",
       "      <td>0.244582</td>\n",
       "      <td>0.038550</td>\n",
       "      <td>0.718967</td>\n",
       "      <td>1.010479</td>\n",
       "    </tr>\n",
       "    <tr>\n",
       "      <th>1</th>\n",
       "      <td>0.843884</td>\n",
       "      <td>0.238840</td>\n",
       "      <td>0.033540</td>\n",
       "      <td>0.742548</td>\n",
       "      <td>1.004260</td>\n",
       "    </tr>\n",
       "    <tr>\n",
       "      <th>2</th>\n",
       "      <td>0.824647</td>\n",
       "      <td>0.238919</td>\n",
       "      <td>0.030516</td>\n",
       "      <td>0.731107</td>\n",
       "      <td>0.986582</td>\n",
       "    </tr>\n",
       "    <tr>\n",
       "      <th>3</th>\n",
       "      <td>0.826579</td>\n",
       "      <td>0.238492</td>\n",
       "      <td>0.030632</td>\n",
       "      <td>0.732755</td>\n",
       "      <td>0.985749</td>\n",
       "    </tr>\n",
       "    <tr>\n",
       "      <th>4</th>\n",
       "      <td>0.829869</td>\n",
       "      <td>0.237777</td>\n",
       "      <td>0.030209</td>\n",
       "      <td>0.732332</td>\n",
       "      <td>0.994844</td>\n",
       "    </tr>\n",
       "  </tbody>\n",
       "</table>\n",
       "</div>"
      ],
      "text/plain": [
       "     sigma8  Omega_cdm   Omega_b         h       n_s\n",
       "0  0.832158   0.244582  0.038550  0.718967  1.010479\n",
       "1  0.843884   0.238840  0.033540  0.742548  1.004260\n",
       "2  0.824647   0.238919  0.030516  0.731107  0.986582\n",
       "3  0.826579   0.238492  0.030632  0.732755  0.985749\n",
       "4  0.829869   0.237777  0.030209  0.732332  0.994844"
      ]
     },
     "execution_count": 46,
     "metadata": {},
     "output_type": "execute_result"
    }
   ],
   "source": [
    "des_y1.head()"
   ]
  },
  {
   "cell_type": "markdown",
   "id": "95d6f8c7-6de7-4af9-8f31-9387c20ff2d9",
   "metadata": {},
   "source": [
    "## Planck\n",
    "\n",
    "[Link to file](https://irsa.ipac.caltech.edu/data/Planck/release_3/ancillary-data/cosmoparams/COM_CosmoParams_base-plikHM-TTTEEE-lowl-lowE_R3.00.zip)"
   ]
  },
  {
   "cell_type": "code",
   "execution_count": 47,
   "id": "da04e218-6726-4881-b330-ac5476ccf9e3",
   "metadata": {},
   "outputs": [],
   "source": [
    "def process_planck(save=False, burnin=None):\n",
    "    fname = 'base_plikHM_TTTEEE_lowl_lowE'\n",
    "    record = []\n",
    "    for i in range(4):\n",
    "        chain = np.loadtxt(f'originalsamples/planck/{fname}_{i+1}.txt')\n",
    "        samples = chain[:,[35, 3, 2, 29, 7]]\n",
    "        samples[:,3] /= 100\n",
    "        samples[:,1] /= samples[:,3]**2\n",
    "        samples[:,2] /= samples[:,3]**2\n",
    "        if burnin is not None:\n",
    "            nsamples = samples.shape[0]\n",
    "            factor = int(nsamples * burnin)\n",
    "            samples = samples[factor:]\n",
    "        record.append(samples)\n",
    "    record = np.concatenate(record)\n",
    "    df = pd.DataFrame(record, columns=COLS)\n",
    "    print(f'Total number of samples for Planck is: {df.shape[0]}')\n",
    "    if save:\n",
    "        df.to_csv(f'samples/{fname}.csv')\n",
    "    return df"
   ]
  },
  {
   "cell_type": "code",
   "execution_count": 48,
   "id": "77df5e84-9fd8-4a20-96fa-fe403dff945d",
   "metadata": {},
   "outputs": [
    {
     "name": "stdout",
     "output_type": "stream",
     "text": [
      "Total number of samples for Planck is: 24497\n"
     ]
    }
   ],
   "source": [
    "planck = process_planck(save=True, burnin=0)"
   ]
  },
  {
   "cell_type": "code",
   "execution_count": 49,
   "id": "db4e74fc-9432-48e1-970d-ad6ed02908d0",
   "metadata": {},
   "outputs": [
    {
     "data": {
      "text/html": [
       "<div>\n",
       "<style scoped>\n",
       "    .dataframe tbody tr th:only-of-type {\n",
       "        vertical-align: middle;\n",
       "    }\n",
       "\n",
       "    .dataframe tbody tr th {\n",
       "        vertical-align: top;\n",
       "    }\n",
       "\n",
       "    .dataframe thead th {\n",
       "        text-align: right;\n",
       "    }\n",
       "</style>\n",
       "<table border=\"1\" class=\"dataframe\">\n",
       "  <thead>\n",
       "    <tr style=\"text-align: right;\">\n",
       "      <th></th>\n",
       "      <th>sigma8</th>\n",
       "      <th>Omega_cdm</th>\n",
       "      <th>Omega_b</th>\n",
       "      <th>h</th>\n",
       "      <th>n_s</th>\n",
       "    </tr>\n",
       "  </thead>\n",
       "  <tbody>\n",
       "    <tr>\n",
       "      <th>0</th>\n",
       "      <td>0.807906</td>\n",
       "      <td>0.272613</td>\n",
       "      <td>0.049939</td>\n",
       "      <td>0.666235</td>\n",
       "      <td>0.962315</td>\n",
       "    </tr>\n",
       "    <tr>\n",
       "      <th>1</th>\n",
       "      <td>0.805180</td>\n",
       "      <td>0.270038</td>\n",
       "      <td>0.049714</td>\n",
       "      <td>0.668091</td>\n",
       "      <td>0.963581</td>\n",
       "    </tr>\n",
       "    <tr>\n",
       "      <th>2</th>\n",
       "      <td>0.798361</td>\n",
       "      <td>0.270795</td>\n",
       "      <td>0.049673</td>\n",
       "      <td>0.666968</td>\n",
       "      <td>0.961259</td>\n",
       "    </tr>\n",
       "    <tr>\n",
       "      <th>3</th>\n",
       "      <td>0.799022</td>\n",
       "      <td>0.272212</td>\n",
       "      <td>0.049881</td>\n",
       "      <td>0.665942</td>\n",
       "      <td>0.960313</td>\n",
       "    </tr>\n",
       "    <tr>\n",
       "      <th>4</th>\n",
       "      <td>0.805950</td>\n",
       "      <td>0.271191</td>\n",
       "      <td>0.049822</td>\n",
       "      <td>0.666870</td>\n",
       "      <td>0.962265</td>\n",
       "    </tr>\n",
       "  </tbody>\n",
       "</table>\n",
       "</div>"
      ],
      "text/plain": [
       "     sigma8  Omega_cdm   Omega_b         h       n_s\n",
       "0  0.807906   0.272613  0.049939  0.666235  0.962315\n",
       "1  0.805180   0.270038  0.049714  0.668091  0.963581\n",
       "2  0.798361   0.270795  0.049673  0.666968  0.961259\n",
       "3  0.799022   0.272212  0.049881  0.665942  0.960313\n",
       "4  0.805950   0.271191  0.049822  0.666870  0.962265"
      ]
     },
     "execution_count": 49,
     "metadata": {},
     "output_type": "execute_result"
    }
   ],
   "source": [
    "planck.head()"
   ]
  },
  {
   "cell_type": "markdown",
   "id": "2f10c80f-a29a-4b13-9c10-ea70b2703deb",
   "metadata": {},
   "source": [
    "## Hybrid KiDS 1000\n",
    "\n",
    "[Link to file](https://desdr-server.ncsa.illinois.edu/despublic/y3a2_files/y3a2_joint-des-kids/chains/chain_kids1000_hybrid_analysis.txt)"
   ]
  },
  {
   "cell_type": "code",
   "execution_count": 50,
   "id": "8d560a6a-2bb4-41ed-88a0-e78e62aca9f5",
   "metadata": {},
   "outputs": [],
   "source": [
    "def process_kids1000(save=False, burnin=None):\n",
    "    fname = 'hybrid_kids_1000'\n",
    "    samples = np.loadtxt(f'originalsamples/{fname}.txt')[:,[12, 8, 9, 10, 11]]\n",
    "    samples[:,1] = samples[:,1] / samples[:,3]**2\n",
    "    samples[:,2] = samples[:,2] / samples[:,3]**2\n",
    "    if burnin is not None:\n",
    "        nsamples = samples.shape[0]\n",
    "        factor = int(nsamples * burnin)\n",
    "        samples = samples[factor:]\n",
    "    df = pd.DataFrame(samples, columns=COLS)\n",
    "    print(f'Total number of samples for KiDS 1000 is: {df.shape[0]}')\n",
    "    if save:\n",
    "        df.to_csv(f'samples/{fname}.csv')\n",
    "    return df"
   ]
  },
  {
   "cell_type": "code",
   "execution_count": 57,
   "id": "aec7b028-2e67-4b47-ac8a-f1cdaf4348a4",
   "metadata": {},
   "outputs": [
    {
     "name": "stdout",
     "output_type": "stream",
     "text": [
      "Total number of samples for KiDS 1000 is: 3800\n"
     ]
    }
   ],
   "source": [
    "kids_1000 = process_kids1000(save=True, burnin=0.5)"
   ]
  },
  {
   "cell_type": "code",
   "execution_count": 58,
   "id": "a5b6f973-d41f-4bdb-b437-7a1f1c5fa71d",
   "metadata": {},
   "outputs": [
    {
     "data": {
      "text/html": [
       "<div>\n",
       "<style scoped>\n",
       "    .dataframe tbody tr th:only-of-type {\n",
       "        vertical-align: middle;\n",
       "    }\n",
       "\n",
       "    .dataframe tbody tr th {\n",
       "        vertical-align: top;\n",
       "    }\n",
       "\n",
       "    .dataframe thead th {\n",
       "        text-align: right;\n",
       "    }\n",
       "</style>\n",
       "<table border=\"1\" class=\"dataframe\">\n",
       "  <thead>\n",
       "    <tr style=\"text-align: right;\">\n",
       "      <th></th>\n",
       "      <th>sigma8</th>\n",
       "      <th>Omega_cdm</th>\n",
       "      <th>Omega_b</th>\n",
       "      <th>h</th>\n",
       "      <th>n_s</th>\n",
       "    </tr>\n",
       "  </thead>\n",
       "  <tbody>\n",
       "    <tr>\n",
       "      <th>0</th>\n",
       "      <td>0.738190</td>\n",
       "      <td>0.402422</td>\n",
       "      <td>0.036797</td>\n",
       "      <td>0.758740</td>\n",
       "      <td>0.884047</td>\n",
       "    </tr>\n",
       "    <tr>\n",
       "      <th>1</th>\n",
       "      <td>0.802474</td>\n",
       "      <td>0.325707</td>\n",
       "      <td>0.039562</td>\n",
       "      <td>0.761983</td>\n",
       "      <td>0.913032</td>\n",
       "    </tr>\n",
       "    <tr>\n",
       "      <th>2</th>\n",
       "      <td>0.691177</td>\n",
       "      <td>0.180095</td>\n",
       "      <td>0.034961</td>\n",
       "      <td>0.763699</td>\n",
       "      <td>1.066213</td>\n",
       "    </tr>\n",
       "    <tr>\n",
       "      <th>3</th>\n",
       "      <td>0.771201</td>\n",
       "      <td>0.224764</td>\n",
       "      <td>0.038977</td>\n",
       "      <td>0.809737</td>\n",
       "      <td>0.991126</td>\n",
       "    </tr>\n",
       "    <tr>\n",
       "      <th>4</th>\n",
       "      <td>0.784293</td>\n",
       "      <td>0.153960</td>\n",
       "      <td>0.032782</td>\n",
       "      <td>0.797542</td>\n",
       "      <td>1.042461</td>\n",
       "    </tr>\n",
       "  </tbody>\n",
       "</table>\n",
       "</div>"
      ],
      "text/plain": [
       "     sigma8  Omega_cdm   Omega_b         h       n_s\n",
       "0  0.738190   0.402422  0.036797  0.758740  0.884047\n",
       "1  0.802474   0.325707  0.039562  0.761983  0.913032\n",
       "2  0.691177   0.180095  0.034961  0.763699  1.066213\n",
       "3  0.771201   0.224764  0.038977  0.809737  0.991126\n",
       "4  0.784293   0.153960  0.032782  0.797542  1.042461"
      ]
     },
     "execution_count": 58,
     "metadata": {},
     "output_type": "execute_result"
    }
   ],
   "source": [
    "kids_1000.head()"
   ]
  },
  {
   "cell_type": "markdown",
   "id": "7417ae7a-f2ae-404a-ab1b-b35297b4961c",
   "metadata": {},
   "source": [
    "## Hybrid DES Year 3\n",
    "\n",
    "[Link to file](https://desdr-server.ncsa.illinois.edu/despublic/y3a2_files/y3a2_joint-des-kids/chains/chain_desy3_hybrid_analysis.txt)"
   ]
  },
  {
   "cell_type": "code",
   "execution_count": 59,
   "id": "6eddeb21-341d-4043-a3d7-d72959da5488",
   "metadata": {},
   "outputs": [],
   "source": [
    "def process_des_y3(save=False, burnin=None):\n",
    "    fname = 'hybrid_des_y3'\n",
    "    samples = np.loadtxt(f'originalsamples/{fname}.txt')[:,[15, 11, 12, 13, 14]]\n",
    "    samples[:,1] = samples[:,1] / samples[:,3]**2\n",
    "    samples[:,2] = samples[:,2] / samples[:,3]**2\n",
    "    if burnin is not None:\n",
    "        nsamples = samples.shape[0]\n",
    "        factor = int(nsamples * burnin)\n",
    "        samples = samples[factor:]\n",
    "    df = pd.DataFrame(samples, columns=COLS)\n",
    "    print(f'Total number of samples for DES Y3 is: {df.shape[0]}')\n",
    "    if save:\n",
    "        df.to_csv(f'samples/{fname}.csv')\n",
    "    return df"
   ]
  },
  {
   "cell_type": "code",
   "execution_count": 63,
   "id": "535e0ca7-2f57-4348-948e-8f0204a600a2",
   "metadata": {},
   "outputs": [
    {
     "name": "stdout",
     "output_type": "stream",
     "text": [
      "Total number of samples for DES Y3 is: 3953\n"
     ]
    }
   ],
   "source": [
    "des_y3 = process_des_y3(save=True, burnin=0.5)"
   ]
  },
  {
   "cell_type": "code",
   "execution_count": 64,
   "id": "3f6c18c2-3343-4ff4-936c-9212f3c52515",
   "metadata": {},
   "outputs": [
    {
     "data": {
      "text/html": [
       "<div>\n",
       "<style scoped>\n",
       "    .dataframe tbody tr th:only-of-type {\n",
       "        vertical-align: middle;\n",
       "    }\n",
       "\n",
       "    .dataframe tbody tr th {\n",
       "        vertical-align: top;\n",
       "    }\n",
       "\n",
       "    .dataframe thead th {\n",
       "        text-align: right;\n",
       "    }\n",
       "</style>\n",
       "<table border=\"1\" class=\"dataframe\">\n",
       "  <thead>\n",
       "    <tr style=\"text-align: right;\">\n",
       "      <th></th>\n",
       "      <th>sigma8</th>\n",
       "      <th>Omega_cdm</th>\n",
       "      <th>Omega_b</th>\n",
       "      <th>h</th>\n",
       "      <th>n_s</th>\n",
       "    </tr>\n",
       "  </thead>\n",
       "  <tbody>\n",
       "    <tr>\n",
       "      <th>0</th>\n",
       "      <td>0.791466</td>\n",
       "      <td>0.173675</td>\n",
       "      <td>0.040865</td>\n",
       "      <td>0.784498</td>\n",
       "      <td>0.979042</td>\n",
       "    </tr>\n",
       "    <tr>\n",
       "      <th>1</th>\n",
       "      <td>0.768472</td>\n",
       "      <td>0.392116</td>\n",
       "      <td>0.045477</td>\n",
       "      <td>0.721464</td>\n",
       "      <td>0.935154</td>\n",
       "    </tr>\n",
       "    <tr>\n",
       "      <th>2</th>\n",
       "      <td>0.803997</td>\n",
       "      <td>0.279069</td>\n",
       "      <td>0.045251</td>\n",
       "      <td>0.649214</td>\n",
       "      <td>1.010002</td>\n",
       "    </tr>\n",
       "    <tr>\n",
       "      <th>3</th>\n",
       "      <td>0.721683</td>\n",
       "      <td>0.198288</td>\n",
       "      <td>0.048631</td>\n",
       "      <td>0.699727</td>\n",
       "      <td>1.045347</td>\n",
       "    </tr>\n",
       "    <tr>\n",
       "      <th>4</th>\n",
       "      <td>0.783023</td>\n",
       "      <td>0.299221</td>\n",
       "      <td>0.038992</td>\n",
       "      <td>0.703494</td>\n",
       "      <td>0.924612</td>\n",
       "    </tr>\n",
       "  </tbody>\n",
       "</table>\n",
       "</div>"
      ],
      "text/plain": [
       "     sigma8  Omega_cdm   Omega_b         h       n_s\n",
       "0  0.791466   0.173675  0.040865  0.784498  0.979042\n",
       "1  0.768472   0.392116  0.045477  0.721464  0.935154\n",
       "2  0.803997   0.279069  0.045251  0.649214  1.010002\n",
       "3  0.721683   0.198288  0.048631  0.699727  1.045347\n",
       "4  0.783023   0.299221  0.038992  0.703494  0.924612"
      ]
     },
     "execution_count": 64,
     "metadata": {},
     "output_type": "execute_result"
    }
   ],
   "source": [
    "des_y3.head()"
   ]
  },
  {
   "cell_type": "markdown",
   "id": "e9f19820-9f01-4917-a485-9cfa173065e4",
   "metadata": {},
   "source": [
    "# Oxford - Planck 2018"
   ]
  },
  {
   "cell_type": "code",
   "execution_count": 67,
   "id": "270a2766-4b0b-441b-aee8-b2f70b075e4f",
   "metadata": {},
   "outputs": [],
   "source": [
    "def process_oxford_planck_2018(save=False, burnin=None, thin = None):\n",
    "    fname = 'P18_lcdm_nu'\n",
    "    columns = [30, 3, 4, 5, 6]\n",
    "    record = []\n",
    "    for i in range(6):\n",
    "        samples = np.loadtxt(f'originalsamples/{fname}/{fname}.{i+1}.txt')\n",
    "        cosmologies = samples[:,columns]\n",
    "        if burnin is not None:\n",
    "            start = int(cosmologies.shape[0] * burnin)\n",
    "            cosmologies = cosmologies[start:]\n",
    "        if thin is not None:\n",
    "            cosmologies = cosmologies[0::thin]\n",
    "        record.append(cosmologies)\n",
    "    record = np.concatenate(record)\n",
    "    df = pd.DataFrame(record, columns=COLS)\n",
    "    print(f'Total number of samples for Oxford Planck 2018 is: {df.shape[0]}')\n",
    "    if save:\n",
    "        df.to_csv(f'samples/{fname}.csv')\n",
    "    return df"
   ]
  },
  {
   "cell_type": "code",
   "execution_count": 68,
   "id": "b1bc19ae-39db-47b9-809e-f0b04c3abaeb",
   "metadata": {},
   "outputs": [
    {
     "name": "stdout",
     "output_type": "stream",
     "text": [
      "Total number of samples for Oxford Planck 2018 is: 23218\n"
     ]
    }
   ],
   "source": [
    "samples = process_oxford_planck_2018(save=True, burnin=0.5, thin = None)"
   ]
  },
  {
   "cell_type": "markdown",
   "id": "45f53b22-71a8-4dc8-af92-09ea846eb11e",
   "metadata": {},
   "source": [
    "# Oxford - Full Dataset"
   ]
  },
  {
   "cell_type": "code",
   "execution_count": 72,
   "id": "c65a9378-657b-4656-b88c-188ecb6d9356",
   "metadata": {},
   "outputs": [],
   "source": [
    "def process_oxford_FD(save=False, burnin=None, thin=None):\n",
    "    fname = 'FD_Garcia-Garcia2021_dzMarg_mMarg_nu'\n",
    "    columns = [20, 3, 4, 5, 6]\n",
    "    record = []\n",
    "    for i in range(6):\n",
    "        samples = np.loadtxt(f'originalsamples/{fname}/{fname}.{i+1}.txt')\n",
    "        cosmologies = samples[:,columns]\n",
    "        if burnin is not None:\n",
    "            start = int(cosmologies.shape[0] * burnin)\n",
    "            cosmologies = cosmologies[start:]\n",
    "        if thin is not None:\n",
    "            cosmologies = cosmologies[0::thin]\n",
    "        record.append(cosmologies)\n",
    "    record = np.concatenate(record)\n",
    "    df = pd.DataFrame(record, columns=COLS)\n",
    "    print(f'Total number of samples for Oxford Full Dataset is: {df.shape[0]}')\n",
    "    if save:\n",
    "        df.to_csv(f'samples/{fname}.csv')\n",
    "    return df"
   ]
  },
  {
   "cell_type": "code",
   "execution_count": 79,
   "id": "4a34248b-32f8-4042-be7e-4264bce02cb3",
   "metadata": {},
   "outputs": [
    {
     "name": "stdout",
     "output_type": "stream",
     "text": [
      "Total number of samples for Oxford Full Dataset is: 79588\n"
     ]
    }
   ],
   "source": [
    "samples_fd = process_oxford_FD(save=True, burnin=0.5)"
   ]
  },
  {
   "cell_type": "markdown",
   "id": "3952de0e-67d4-4602-b67d-aefb77c35934",
   "metadata": {},
   "source": [
    "# Oxford KiDS 1000"
   ]
  },
  {
   "cell_type": "code",
   "execution_count": 95,
   "id": "177bc5d5-92d7-48e4-9235-205cd00337cd",
   "metadata": {},
   "outputs": [],
   "source": [
    "def process_oxford_kids_1000(save=False, burnin=None, thin=None):\n",
    "    fname = 'k1000_baryons_nocuts_nla_nside4096_lmax4500_lmin100_GNG'\n",
    "    columns = [28, 27, 4, 5, 6]\n",
    "    record = []\n",
    "    for i in range(4):\n",
    "        samples = np.loadtxt(f'originalsamples/{fname}/{fname}.{i+1}.txt')\n",
    "        cosmologies = samples[:,columns]\n",
    "        if burnin is not None:\n",
    "            start = int(cosmologies.shape[0] * burnin)\n",
    "            cosmologies = cosmologies[start:]\n",
    "        if thin is not None:\n",
    "            cosmologies = cosmologies[0::thin]\n",
    "        record.append(cosmologies)\n",
    "    record = np.concatenate(record)\n",
    "    df = pd.DataFrame(record, columns=COLS)\n",
    "    print(f'Total number of samples for Oxford Full Dataset is: {df.shape[0]}')\n",
    "    if save:\n",
    "        df.to_csv(f'samples/{fname}.csv')\n",
    "    return df"
   ]
  },
  {
   "cell_type": "code",
   "execution_count": 104,
   "id": "1222dd56-6229-4eab-bf47-7603e6ce5c3f",
   "metadata": {},
   "outputs": [
    {
     "name": "stdout",
     "output_type": "stream",
     "text": [
      "Total number of samples for Oxford Full Dataset is: 147299\n"
     ]
    }
   ],
   "source": [
    "samples_kids_1000 = process_oxford_kids_1000(save=True, burnin=0.5)"
   ]
  },
  {
   "cell_type": "markdown",
   "id": "4d6670b8-24e6-4cda-a930-bb9ba371a3a2",
   "metadata": {},
   "source": [
    "# Oxford - DES Y3"
   ]
  },
  {
   "cell_type": "code",
   "execution_count": 101,
   "id": "f4f833c3-a20b-4209-b488-898851ffc356",
   "metadata": {},
   "outputs": [],
   "source": [
    "def process_oxford_desy3(save=False, burnin=None, thin=None):\n",
    "    fname = 'desy3wl_baryons_nocuts_nla_nside4096_lmax4500_lmin20_GNG'\n",
    "    columns = [26, 25, 4, 5, 6]\n",
    "    record = []\n",
    "    counts = 0\n",
    "    for i in range(4):\n",
    "        samples = np.loadtxt(f'originalsamples/{fname}/{fname}.{i+1}.txt')\n",
    "        counts += samples.shape[0]\n",
    "        cosmologies = samples[:,columns]\n",
    "        if burnin is not None:\n",
    "            start = int(cosmologies.shape[0] * burnin)\n",
    "            cosmologies = cosmologies[start:]\n",
    "        if thin is not None:\n",
    "            cosmologies = cosmologies[0::thin]\n",
    "        record.append(cosmologies)\n",
    "    record = np.concatenate(record)\n",
    "    df = pd.DataFrame(record, columns=COLS)\n",
    "    print(f'Total number of samples for Oxford Full Dataset is: {df.shape[0]}')\n",
    "    if save:\n",
    "        df.to_csv(f'samples/{fname}.csv')\n",
    "    return df"
   ]
  },
  {
   "cell_type": "code",
   "execution_count": 105,
   "id": "475fa7f5-d516-4309-8ae1-a2ee34c945cd",
   "metadata": {},
   "outputs": [
    {
     "name": "stdout",
     "output_type": "stream",
     "text": [
      "Total number of samples for Oxford Full Dataset is: 278416\n"
     ]
    }
   ],
   "source": [
    "samples_desy3 = process_oxford_desy3(save=True, burnin=0.5)"
   ]
  },
  {
   "cell_type": "markdown",
   "id": "e65f05fa-17ec-4e89-bdbe-57fc2687b8ee",
   "metadata": {},
   "source": [
    "# KiDS-1000 Asgari (Bandpowers)"
   ]
  },
  {
   "cell_type": "code",
   "execution_count": 20,
   "id": "56aa8b16-19ff-45f4-bb14-961be663c466",
   "metadata": {},
   "outputs": [],
   "source": [
    "def process_kids_1000_asgari(save=False, burnin=None, thin=None, method = 'bp'):\n",
    "    # we can choose between bp, cosebis, xipm\n",
    "    fname = f'originalsamples/kids_1000_asgari/{method}/chain/output_multinest_C.txt'\n",
    "    columns = [4, 0, 1, 2, 3]\n",
    "    samples = np.loadtxt(fname)\n",
    "    cosmologies = samples[:,columns]\n",
    "    if burnin is not None:\n",
    "        start = int(cosmologies.shape[0] * burnin)\n",
    "        cosmologies = cosmologies[start:]\n",
    "    if thin is not None:\n",
    "        cosmologies = cosmologies[0::thin]\n",
    "\n",
    "    cosmologies[:,1] /= cosmologies[:,3]**2\n",
    "    cosmologies[:,2] /= cosmologies[:,3]**2\n",
    "    df = pd.DataFrame(cosmologies, columns=COLS)\n",
    "    print(f'Total number of samples for KiDS-1000 ({method}) is: {df.shape[0]}')\n",
    "    if save:\n",
    "        fname_save = f'kids_1000_asgari_{method}'\n",
    "        df.to_csv(f'samples/{fname_save}.csv')\n",
    "    return df"
   ]
  },
  {
   "cell_type": "code",
   "execution_count": 23,
   "id": "b29d1088-718e-4003-8e54-b91432f03bc7",
   "metadata": {},
   "outputs": [
    {
     "name": "stdout",
     "output_type": "stream",
     "text": [
      "Total number of samples for KiDS-1000 (bp) is: 8613\n",
      "Total number of samples for KiDS-1000 (cosebis) is: 8225\n",
      "Total number of samples for KiDS-1000 (xipm) is: 8603\n"
     ]
    }
   ],
   "source": [
    "kids_1000_bp = process_kids_1000_asgari(save=True, burnin=0.5, method = 'bp')\n",
    "kids_1000_cosebis = process_kids_1000_asgari(save=True, burnin=0.5, method = 'cosebis')\n",
    "kids_1000_xipm = process_kids_1000_asgari(save=True, burnin=0.5, method = 'xipm')"
   ]
  },
  {
   "cell_type": "markdown",
   "id": "aaac7aba-412a-4815-aaa1-9efcb0683594",
   "metadata": {},
   "source": [
    "# ACT DR4 - Constraints from ACT DR4 TT+TE+EE (LCDM)\n",
    "\n",
    "https://lambda.gsfc.nasa.gov/product/act/actpol_mcmc_chains_get.html"
   ]
  },
  {
   "cell_type": "code",
   "execution_count": 46,
   "id": "df9559ae-c4ac-4049-9228-f561920f0fa8",
   "metadata": {},
   "outputs": [],
   "source": [
    "def process_act_dr4(save=False, burnin=None, thin = None):\n",
    "    fname = 'originalsamples/ACT-DR4/CLASS2p8_ACTPol_lite_DR4_leakfix_yp2_baseLCDM_taup_hip_R0p01'\n",
    "    columns = [16, 6, 5, 10, 3]\n",
    "    record = []\n",
    "    for i in range(4):\n",
    "        samples = np.loadtxt(f'{fname}.{i+1}.txt')\n",
    "        cosmologies = samples[:,columns]\n",
    "        if burnin is not None:\n",
    "            start = int(cosmologies.shape[0] * burnin)\n",
    "            cosmologies = cosmologies[start:]\n",
    "        if thin is not None:\n",
    "            cosmologies = cosmologies[0::thin]\n",
    "        record.append(cosmologies)\n",
    "    record = np.concatenate(record)\n",
    "    record[:,3] /= 100\n",
    "    record[:,1] /= record[:,3]**2\n",
    "    record[:,2] /= record[:,3]**2\n",
    "    df = pd.DataFrame(record, columns=COLS)\n",
    "    print(f'Total number of samples for ACT DR4 is: {df.shape[0]}')\n",
    "    if save:\n",
    "        fname_save = 'act_dr4_tt_te_ee'\n",
    "        df.to_csv(f'samples/{fname_save}.csv')\n",
    "    return df"
   ]
  },
  {
   "cell_type": "code",
   "execution_count": 47,
   "id": "a6cca44b-d7d9-4cd1-9cd9-600f11cb1a4a",
   "metadata": {},
   "outputs": [
    {
     "name": "stdout",
     "output_type": "stream",
     "text": [
      "Total number of samples for ACT DR4 is: 22019\n"
     ]
    }
   ],
   "source": [
    "act_dr4 = process_act_dr4(save=True, burnin=0.0)"
   ]
  },
  {
   "cell_type": "code",
   "execution_count": 48,
   "id": "b379ba7d-3381-41c9-bcd3-ffa8415ad8f9",
   "metadata": {},
   "outputs": [
    {
     "data": {
      "text/html": [
       "<div>\n",
       "<style scoped>\n",
       "    .dataframe tbody tr th:only-of-type {\n",
       "        vertical-align: middle;\n",
       "    }\n",
       "\n",
       "    .dataframe tbody tr th {\n",
       "        vertical-align: top;\n",
       "    }\n",
       "\n",
       "    .dataframe thead th {\n",
       "        text-align: right;\n",
       "    }\n",
       "</style>\n",
       "<table border=\"1\" class=\"dataframe\">\n",
       "  <thead>\n",
       "    <tr style=\"text-align: right;\">\n",
       "      <th></th>\n",
       "      <th>sigma8</th>\n",
       "      <th>Omega_cdm</th>\n",
       "      <th>Omega_b</th>\n",
       "      <th>h</th>\n",
       "      <th>n_s</th>\n",
       "    </tr>\n",
       "  </thead>\n",
       "  <tbody>\n",
       "    <tr>\n",
       "      <th>0</th>\n",
       "      <td>0.812122</td>\n",
       "      <td>0.249928</td>\n",
       "      <td>0.048015</td>\n",
       "      <td>0.684685</td>\n",
       "      <td>0.989193</td>\n",
       "    </tr>\n",
       "    <tr>\n",
       "      <th>1</th>\n",
       "      <td>0.802679</td>\n",
       "      <td>0.243720</td>\n",
       "      <td>0.046315</td>\n",
       "      <td>0.689091</td>\n",
       "      <td>1.016293</td>\n",
       "    </tr>\n",
       "    <tr>\n",
       "      <th>2</th>\n",
       "      <td>0.803326</td>\n",
       "      <td>0.245204</td>\n",
       "      <td>0.046520</td>\n",
       "      <td>0.688056</td>\n",
       "      <td>1.016050</td>\n",
       "    </tr>\n",
       "    <tr>\n",
       "      <th>3</th>\n",
       "      <td>0.803141</td>\n",
       "      <td>0.239217</td>\n",
       "      <td>0.044790</td>\n",
       "      <td>0.691705</td>\n",
       "      <td>1.037048</td>\n",
       "    </tr>\n",
       "    <tr>\n",
       "      <th>4</th>\n",
       "      <td>0.794249</td>\n",
       "      <td>0.218625</td>\n",
       "      <td>0.042794</td>\n",
       "      <td>0.710713</td>\n",
       "      <td>1.026268</td>\n",
       "    </tr>\n",
       "  </tbody>\n",
       "</table>\n",
       "</div>"
      ],
      "text/plain": [
       "     sigma8  Omega_cdm   Omega_b         h       n_s\n",
       "0  0.812122   0.249928  0.048015  0.684685  0.989193\n",
       "1  0.802679   0.243720  0.046315  0.689091  1.016293\n",
       "2  0.803326   0.245204  0.046520  0.688056  1.016050\n",
       "3  0.803141   0.239217  0.044790  0.691705  1.037048\n",
       "4  0.794249   0.218625  0.042794  0.710713  1.026268"
      ]
     },
     "execution_count": 48,
     "metadata": {},
     "output_type": "execute_result"
    }
   ],
   "source": [
    "act_dr4.head()"
   ]
  },
  {
   "cell_type": "code",
   "execution_count": 49,
   "id": "0b4212e0-bfee-43dd-b7c1-a6eb3d4b26b8",
   "metadata": {},
   "outputs": [
    {
     "data": {
      "text/html": [
       "<div>\n",
       "<style scoped>\n",
       "    .dataframe tbody tr th:only-of-type {\n",
       "        vertical-align: middle;\n",
       "    }\n",
       "\n",
       "    .dataframe tbody tr th {\n",
       "        vertical-align: top;\n",
       "    }\n",
       "\n",
       "    .dataframe thead th {\n",
       "        text-align: right;\n",
       "    }\n",
       "</style>\n",
       "<table border=\"1\" class=\"dataframe\">\n",
       "  <thead>\n",
       "    <tr style=\"text-align: right;\">\n",
       "      <th></th>\n",
       "      <th>sigma8</th>\n",
       "      <th>Omega_cdm</th>\n",
       "      <th>Omega_b</th>\n",
       "      <th>h</th>\n",
       "      <th>n_s</th>\n",
       "    </tr>\n",
       "  </thead>\n",
       "  <tbody>\n",
       "    <tr>\n",
       "      <th>count</th>\n",
       "      <td>22019.000000</td>\n",
       "      <td>22019.000000</td>\n",
       "      <td>22019.000000</td>\n",
       "      <td>22019.000000</td>\n",
       "      <td>22019.000000</td>\n",
       "    </tr>\n",
       "    <tr>\n",
       "      <th>mean</th>\n",
       "      <td>0.819396</td>\n",
       "      <td>0.250683</td>\n",
       "      <td>0.046132</td>\n",
       "      <td>0.683380</td>\n",
       "      <td>1.011444</td>\n",
       "    </tr>\n",
       "    <tr>\n",
       "      <th>std</th>\n",
       "      <td>0.016474</td>\n",
       "      <td>0.019272</td>\n",
       "      <td>0.001988</td>\n",
       "      <td>0.015416</td>\n",
       "      <td>0.015529</td>\n",
       "    </tr>\n",
       "    <tr>\n",
       "      <th>min</th>\n",
       "      <td>0.755723</td>\n",
       "      <td>0.186833</td>\n",
       "      <td>0.039373</td>\n",
       "      <td>0.626179</td>\n",
       "      <td>0.955209</td>\n",
       "    </tr>\n",
       "    <tr>\n",
       "      <th>25%</th>\n",
       "      <td>0.808547</td>\n",
       "      <td>0.237332</td>\n",
       "      <td>0.044775</td>\n",
       "      <td>0.672710</td>\n",
       "      <td>1.000897</td>\n",
       "    </tr>\n",
       "    <tr>\n",
       "      <th>50%</th>\n",
       "      <td>0.819749</td>\n",
       "      <td>0.249999</td>\n",
       "      <td>0.046097</td>\n",
       "      <td>0.683207</td>\n",
       "      <td>1.011294</td>\n",
       "    </tr>\n",
       "    <tr>\n",
       "      <th>75%</th>\n",
       "      <td>0.830600</td>\n",
       "      <td>0.263440</td>\n",
       "      <td>0.047493</td>\n",
       "      <td>0.693780</td>\n",
       "      <td>1.021656</td>\n",
       "    </tr>\n",
       "    <tr>\n",
       "      <th>max</th>\n",
       "      <td>0.879151</td>\n",
       "      <td>0.335824</td>\n",
       "      <td>0.054090</td>\n",
       "      <td>0.743433</td>\n",
       "      <td>1.079400</td>\n",
       "    </tr>\n",
       "  </tbody>\n",
       "</table>\n",
       "</div>"
      ],
      "text/plain": [
       "             sigma8     Omega_cdm       Omega_b             h           n_s\n",
       "count  22019.000000  22019.000000  22019.000000  22019.000000  22019.000000\n",
       "mean       0.819396      0.250683      0.046132      0.683380      1.011444\n",
       "std        0.016474      0.019272      0.001988      0.015416      0.015529\n",
       "min        0.755723      0.186833      0.039373      0.626179      0.955209\n",
       "25%        0.808547      0.237332      0.044775      0.672710      1.000897\n",
       "50%        0.819749      0.249999      0.046097      0.683207      1.011294\n",
       "75%        0.830600      0.263440      0.047493      0.693780      1.021656\n",
       "max        0.879151      0.335824      0.054090      0.743433      1.079400"
      ]
     },
     "execution_count": 49,
     "metadata": {},
     "output_type": "execute_result"
    }
   ],
   "source": [
    "act_dr4.describe()"
   ]
  },
  {
   "cell_type": "code",
   "execution_count": null,
   "id": "b04acc85-f8ba-42ee-8d63-350849019bf6",
   "metadata": {},
   "outputs": [],
   "source": []
  }
 ],
 "metadata": {
  "kernelspec": {
   "display_name": "Python 3 (ipykernel)",
   "language": "python",
   "name": "python3"
  },
  "language_info": {
   "codemirror_mode": {
    "name": "ipython",
    "version": 3
   },
   "file_extension": ".py",
   "mimetype": "text/x-python",
   "name": "python",
   "nbconvert_exporter": "python",
   "pygments_lexer": "ipython3",
   "version": "3.9.19"
  }
 },
 "nbformat": 4,
 "nbformat_minor": 5
}
