{
 "cells": [
  {
   "cell_type": "code",
   "execution_count": 53,
   "id": "006414a7-da34-4de5-90d8-b5857e3ac5f5",
   "metadata": {},
   "outputs": [],
   "source": [
    "import os\n",
    "import torch\n",
    "import numpy as np\n",
    "from emcee import EnsembleSampler\n",
    "from src.flow import NormFlow\n",
    "from getdist import plots, MCSamples\n",
    "import getdist\n",
    "import matplotlib.pylab as plt \n",
    "from typing import Any \n",
    "import dill \n",
    "import pandas as pd \n",
    "\n",
    "plt.rc(\"text\", usetex=True)\n",
    "plt.rc(\"font\", **{\"family\": \"sans-serif\", \"serif\": [\"Palatino\"]})\n",
    "FONTSIZE = 20"
   ]
  },
  {
   "cell_type": "code",
   "execution_count": 42,
   "id": "ba7ea18f-d0ef-480c-8b66-c5797d9f6931",
   "metadata": {},
   "outputs": [],
   "source": [
    "COLS_tau = ['sigma8', 'Omega_cdm', 'Omega_b', 'h', 'n_s', 'tau'] "
   ]
  },
  {
   "cell_type": "markdown",
   "id": "fe1d352d-dbd2-42b3-b9d3-61aef9fdd30c",
   "metadata": {},
   "source": [
    "# Processing"
   ]
  },
  {
   "cell_type": "code",
   "execution_count": null,
   "id": "8f087395-d4be-4571-b3c7-f29435e51e6a",
   "metadata": {},
   "outputs": [],
   "source": [
    "def process_oxford_tau_planck_2018(save=False, burnin=None, thin = None):\n",
    "    fname = 'P18_lcdm_nu'\n",
    "    columns = [30, 3, 4, 5, 6, 7]\n",
    "    record = []\n",
    "    for i in range(6):\n",
    "        samples = np.loadtxt(f'originalsamples/{fname}/{fname}.{i+1}.txt')\n",
    "        cosmologies = samples[:,columns]\n",
    "        if burnin is not None:\n",
    "            start = int(cosmologies.shape[0] * burnin)\n",
    "            cosmologies = cosmologies[start:]\n",
    "        if thin is not None:\n",
    "            cosmologies = cosmologies[0::thin]\n",
    "        record.append(cosmologies)\n",
    "    record = np.concatenate(record)\n",
    "    df = pd.DataFrame(record, columns=COLS_tau)\n",
    "    print(f'Total number of samples for Oxford Planck 2018 is: {df.shape[0]}')\n",
    "    if save:\n",
    "        df.to_csv(f'samples/{fname}_tau.csv')\n",
    "    return df"
   ]
  },
  {
   "cell_type": "code",
   "execution_count": null,
   "id": "0c07708c-73b9-49bf-8e00-526db84d008f",
   "metadata": {},
   "outputs": [],
   "source": [
    "training_points = process_oxford_tau_planck_2018(save=False, burnin=0.25)"
   ]
  },
  {
   "cell_type": "markdown",
   "id": "e8089606-cd82-4f0e-a144-54e2be4c0be5",
   "metadata": {},
   "source": [
    "# Training"
   ]
  },
  {
   "cell_type": "code",
   "execution_count": null,
   "id": "9e0a7bc7-dc72-40fd-bd7d-d4c4f6d6141b",
   "metadata": {},
   "outputs": [],
   "source": [
    "fname = 'P18_lcdm_nu_tau'\n",
    "flow_folder = 'flows'\n",
    "flow = NormFlow(fname, 25000)"
   ]
  },
  {
   "cell_type": "code",
   "execution_count": null,
   "id": "dfb588b0-0d77-4a94-97b1-6c81229f5306",
   "metadata": {},
   "outputs": [],
   "source": [
    "# loss = flow.training(lr=1E-3, nsteps=3000)\n",
    "# torch.save(flow, f\"{flow_folder}/{fname}.pt\")"
   ]
  },
  {
   "cell_type": "code",
   "execution_count": 52,
   "id": "4061ce47-f5ac-4d01-8ea5-208a0e67b9b4",
   "metadata": {},
   "outputs": [],
   "source": [
    "def triangle_cosmology(\n",
    "    samples1: np.ndarray, samples2: np.ndarray, label1: str, label2: str, fname: str = None\n",
    "):\n",
    "    \"\"\"Creates a triangle plot given the original samples and the flow samples.\n",
    "\n",
    "    Args:\n",
    "        samples1 (np.ndarray): the original samples\n",
    "        samples2 (np.ndarray): the flow samples\n",
    "        label1 (str): label for the first set of samples\n",
    "        label2 (str): label for the second set of samples\n",
    "        fname (str): name of the file for output\n",
    "    \"\"\"\n",
    "\n",
    "    settings = {\n",
    "        \"mult_bias_correction_order\": 0,\n",
    "        \"smooth_scale_2D\": 0.3,\n",
    "        \"smooth_scale_1D\": 0.3,\n",
    "    }\n",
    "    color2 = \"#50C878\"\n",
    "    color1 = \"#222E50\"\n",
    "\n",
    "    ndim = 6\n",
    "    names = [\"x%s\" % i for i in range(ndim)]\n",
    "    labels = [r\"$\\sigma_{8}$\", r\"$\\Omega_{c}$\", r\"$\\Omega_{b}$\", r\"$h$\", r\"$n_{s}$\", r\"$\\tau$\"]\n",
    "\n",
    "    samples_1 = MCSamples(\n",
    "        samples=samples1, names=names, labels=labels, label=label1, settings=settings\n",
    "    )\n",
    "    samples_2 = MCSamples(\n",
    "        samples=samples2, names=names, labels=labels, label=label2, settings=settings\n",
    "    )\n",
    "\n",
    "    G = plots.getSubplotPlotter(subplot_size=1.0)\n",
    "    G.settings.solid_contour_palefactor = 0.9\n",
    "    G.settings.alpha_filled_add = 0.9\n",
    "    G.settings.num_plot_contours = 2\n",
    "    G.settings.lw_contour = 1\n",
    "    G.settings.axes_fontsize = 15\n",
    "    G.settings.lab_fontsize = 15\n",
    "    G.settings.fontsize = 35\n",
    "    G.settings.legend_fontsize = 14\n",
    "    samples_1.updateSettings({\"contours\": [0.68, 0.95]})\n",
    "    samples_2.updateSettings({\"contoburs\": [0.68, 0.95]})\n",
    "    G.triangle_plot(\n",
    "        [samples_2, samples_1],\n",
    "        filled=[True, False],\n",
    "        contour_colors=[color2, color1],\n",
    "        contour_lws=[2, 2],\n",
    "        contour_ls=[\"-\", \"-\"],\n",
    "        legend_loc=(0.45, 0.88),\n",
    "    )\n",
    "    plt.show()"
   ]
  },
  {
   "cell_type": "code",
   "execution_count": null,
   "id": "24940b71-2ab2-483d-b0c3-bc7314687f2c",
   "metadata": {},
   "outputs": [],
   "source": [
    "# flow_samples = flow.generate_samples(50000)\n",
    "# triangle_cosmology(testing.values, flow_samples, 'Planck', 'Planck (flow)')"
   ]
  },
  {
   "cell_type": "markdown",
   "id": "800b9281-90fe-4f02-b077-5169c06e7b35",
   "metadata": {},
   "source": [
    "# Sampling "
   ]
  },
  {
   "cell_type": "code",
   "execution_count": 24,
   "id": "5d74e602-6d7e-4ffb-a7bf-1113c1b183c0",
   "metadata": {},
   "outputs": [],
   "source": [
    "def load_flow(experiment: str) -> NormFlow:\n",
    "    \"\"\"Load a pre-trained normalising flow.\n",
    "\n",
    "    Args:\n",
    "        experiment (str): name of the experiment (flow)\n",
    "\n",
    "    Returns:\n",
    "        NormFlow: the pre-trained normalising flow\n",
    "    \"\"\"\n",
    "    flow = torch.load(f\"flows/{experiment}.pt\")\n",
    "    return flow\n",
    "\n",
    "\n",
    "def loglike_flows(sample, flows):\n",
    "\n",
    "    keys = list(flows.keys())\n",
    "    logl = 0.0\n",
    "    for key in keys:\n",
    "        if 'P18' in key:\n",
    "            logl += flows[key].loglike(sample).item()\n",
    "        else:\n",
    "            logl += flows[key].loglike(sample[0:5]).item()\n",
    "    return logl"
   ]
  },
  {
   "cell_type": "code",
   "execution_count": 25,
   "id": "0b543fd3-416b-4e70-900f-11039006707f",
   "metadata": {},
   "outputs": [],
   "source": [
    "fname_1 = 'P18_lcdm_nu_tau'\n",
    "fname_2 = 'FD_Garcia-Garcia2021_dzMarg_mMarg_nu'\n",
    "flows = {fname_1: load_flow(fname_1), fname_2: load_flow(fname_2)}"
   ]
  },
  {
   "cell_type": "code",
   "execution_count": 31,
   "id": "daa8fa51-bde2-4128-8dee-40baf6397cef",
   "metadata": {},
   "outputs": [],
   "source": [
    "cosmology = np.array([0.81111101, 0.26472041, 0.04931131, 0.67351471, 0.96461139, 0.05442439])"
   ]
  },
  {
   "cell_type": "code",
   "execution_count": 32,
   "id": "00078f19-d92f-4d8e-8409-64c006021a89",
   "metadata": {},
   "outputs": [
    {
     "data": {
      "text/plain": [
       "26.82843780517578"
      ]
     },
     "execution_count": 32,
     "metadata": {},
     "output_type": "execute_result"
    }
   ],
   "source": [
    "loglike_flows(cosmology, flows)"
   ]
  },
  {
   "cell_type": "code",
   "execution_count": 28,
   "id": "0abb2367-72df-413b-a78c-b48e82a1f3f1",
   "metadata": {},
   "outputs": [],
   "source": [
    "class SampleFlow:\n",
    "    \"\"\"Draw samples from the joint, given a list of experiments.\n",
    "\n",
    "    Args:\n",
    "        experiments (list): a list of experiments we want to use.\n",
    "    \"\"\"\n",
    "\n",
    "    def __init__(self, experiments: list):\n",
    "\n",
    "        self.flows = {e: load_flow(e) for e in experiments}\n",
    "        self.nexp = len(self.flows)\n",
    "        self.mean = self.flows[experiments[0]].samples.mean(0)\n",
    "        self.ndim = len(self.mean)\n",
    "        self.nwalkers = 2 * self.ndim\n",
    "\n",
    "    def sampler(self, nsamples: int, eps: float) -> EnsembleSampler:\n",
    "        \"\"\"Sample the joint using emcee.\n",
    "\n",
    "        Args:\n",
    "            nsamples (int): the number of samples we want\n",
    "            eps (float): the step-size to use in emcee.\n",
    "\n",
    "        Returns:\n",
    "            EnsembleSampler: the emcee Ensemble sampler\n",
    "        \"\"\"\n",
    "        pos = self.mean + eps * np.random.randn(self.nwalkers, self.ndim)\n",
    "        sampler = EnsembleSampler(\n",
    "            self.nwalkers, self.ndim, loglike_flows, args=(self.flows,)\n",
    "        )\n",
    "        sampler.run_mcmc(pos, nsamples, progress=True)\n",
    "        return sampler"
   ]
  },
  {
   "cell_type": "code",
   "execution_count": 29,
   "id": "1e931b39-31eb-475f-8ae9-ef61f159196f",
   "metadata": {},
   "outputs": [],
   "source": [
    "testing = SampleFlow([fname_1, fname_2])"
   ]
  },
  {
   "cell_type": "code",
   "execution_count": 35,
   "id": "dfe97ee7-8b04-4469-9c10-da31e524dcc5",
   "metadata": {},
   "outputs": [
    {
     "name": "stderr",
     "output_type": "stream",
     "text": [
      "100%|██████████████████████████████████████████████████████████████| 10000/10000 [17:53<00:00,  9.31it/s]\n"
     ]
    }
   ],
   "source": [
    "sampler = testing.sampler(10000, 1E-3)"
   ]
  },
  {
   "cell_type": "code",
   "execution_count": 38,
   "id": "fdecbfe3-3424-4510-9d0c-2fc78cc70284",
   "metadata": {},
   "outputs": [],
   "source": [
    "def dill_save(file: Any, fname: str) -> None:\n",
    "    \"\"\"Stores a file, for example, MCMC samples.\n",
    "    Args:\n",
    "        file (Any): the file we want to store.\n",
    "        fname (str): the name of the file.\n",
    "    \"\"\"\n",
    "\n",
    "    # get the folder where the files are stored\n",
    "    folder = 'mcmcsamples/'\n",
    "\n",
    "    # use compressed format to store data\n",
    "    path = os.path.join(folder, fname)\n",
    "    with open(path + \".pkl\", \"wb\") as dummy:\n",
    "        dill.dump(file, dummy)"
   ]
  },
  {
   "cell_type": "code",
   "execution_count": 39,
   "id": "0bdddd9f-a6d6-496d-817b-5438b154ec42",
   "metadata": {},
   "outputs": [],
   "source": [
    "# dill_save(sampler, 'P18_tau_FD')"
   ]
  },
  {
   "cell_type": "code",
   "execution_count": 41,
   "id": "007bf3e2-778e-473d-8091-daca13dec5a4",
   "metadata": {},
   "outputs": [],
   "source": [
    "mcmc_samples_flow = sampler.get_chain(flat=True, discard=500)"
   ]
  },
  {
   "cell_type": "code",
   "execution_count": 49,
   "id": "5e22e2d4-c7c2-47ef-a8b6-4bd4d474459a",
   "metadata": {},
   "outputs": [],
   "source": [
    "def process_samples_FD_P18(burnin=None, thin=None):\n",
    "    fname = 'FD_Garcia-Garcia2021_dzMarg_mMarg_P18_lcdm_nu' \n",
    "    columns = [-12, 3, 4, 5, 6, 7]\n",
    "    record = []\n",
    "    for i in range(4):\n",
    "        samples = np.loadtxt(f'originalsamples/{fname}/{fname}.{i+1}.txt')\n",
    "        cosmologies = samples[:,columns]\n",
    "        if burnin is not None:\n",
    "            start = int(cosmologies.shape[0] * burnin)\n",
    "            cosmologies = cosmologies[start:]\n",
    "        if thin is not None:\n",
    "            cosmologies = cosmologies[0::thin]\n",
    "        record.append(cosmologies)\n",
    "    record = np.concatenate(record)\n",
    "    df = pd.DataFrame(record, columns=COLS_tau)\n",
    "    print(f'Total number of samples for Oxford Full Dataset + Planck is: {df.shape[0]}')\n",
    "    return df"
   ]
  },
  {
   "cell_type": "code",
   "execution_count": 51,
   "id": "7918c9b8-c9fe-4093-be7b-150af2f85ed0",
   "metadata": {},
   "outputs": [
    {
     "name": "stdout",
     "output_type": "stream",
     "text": [
      "Total number of samples for Oxford Full Dataset + Planck is: 34679\n"
     ]
    }
   ],
   "source": [
    "original_samples = process_samples_FD_P18(burnin=0.25)"
   ]
  },
  {
   "cell_type": "code",
   "execution_count": null,
   "id": "3372fed0-8d40-4cf2-b0d4-15ab2ab26fcd",
   "metadata": {},
   "outputs": [],
   "source": [
    "triangle_cosmology(original_samples.values, mcmc_samples_flow, 'FD + Planck (original)', 'FD (flow) + Planck (flow)')"
   ]
  }
 ],
 "metadata": {
  "kernelspec": {
   "display_name": "Python 3 (ipykernel)",
   "language": "python",
   "name": "python3"
  },
  "language_info": {
   "codemirror_mode": {
    "name": "ipython",
    "version": 3
   },
   "file_extension": ".py",
   "mimetype": "text/x-python",
   "name": "python",
   "nbconvert_exporter": "python",
   "pygments_lexer": "ipython3",
   "version": "3.9.19"
  }
 },
 "nbformat": 4,
 "nbformat_minor": 5
}
